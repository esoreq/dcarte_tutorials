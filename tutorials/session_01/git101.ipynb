{
 "cells": [
  {
   "cell_type": "markdown",
   "metadata": {},
   "source": [
    "# Introduction to git\n"
   ]
  },
  {
   "cell_type": "markdown",
   "metadata": {},
   "source": [
    "Why do we need to use version control when we code? \n",
    "\n",
    "\n",
    "Version control software keeps track of every modification to the code in a special kind of database. If a mistake is made, developers can turn back the clock and compare earlier versions of the code to help fix the mistake while minimizing disruption to all team members."
   ]
  }
 ],
 "metadata": {
  "interpreter": {
   "hash": "b0ee27f7a97b1fdf1136c05d44d8faf8d1201229ac0bc94db93de0aa97de366a"
  },
  "kernelspec": {
   "display_name": "Python 3.8.12 ('sandbox')",
   "language": "python",
   "name": "python3"
  },
  "language_info": {
   "name": "python",
   "version": "3.8.12"
  },
  "orig_nbformat": 4
 },
 "nbformat": 4,
 "nbformat_minor": 2
}
